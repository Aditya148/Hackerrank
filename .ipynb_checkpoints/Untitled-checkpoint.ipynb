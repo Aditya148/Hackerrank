{
 "cells": [
  {
   "cell_type": "code",
   "execution_count": 1,
   "metadata": {},
   "outputs": [],
   "source": [
    "import pandas as pd\n",
    "import numpy as np\n",
    "import matplotlib.pyplot as plt\n",
    "import seaborn as sns"
   ]
  },
  {
   "cell_type": "code",
   "execution_count": 2,
   "metadata": {},
   "outputs": [],
   "source": [
    "train = pd.read_csv('train.csv')\n",
    "test = pd.read_csv('test.csv')"
   ]
  },
  {
   "cell_type": "code",
   "execution_count": 71,
   "metadata": {},
   "outputs": [
    {
     "data": {
      "text/html": [
       "<div>\n",
       "<style scoped>\n",
       "    .dataframe tbody tr th:only-of-type {\n",
       "        vertical-align: middle;\n",
       "    }\n",
       "\n",
       "    .dataframe tbody tr th {\n",
       "        vertical-align: top;\n",
       "    }\n",
       "\n",
       "    .dataframe thead th {\n",
       "        text-align: right;\n",
       "    }\n",
       "</style>\n",
       "<table border=\"1\" class=\"dataframe\">\n",
       "  <thead>\n",
       "    <tr style=\"text-align: right;\">\n",
       "      <th></th>\n",
       "      <th>customer_id</th>\n",
       "      <th>Name</th>\n",
       "      <th>age</th>\n",
       "      <th>gender</th>\n",
       "      <th>security_no</th>\n",
       "      <th>region_category</th>\n",
       "      <th>membership_category</th>\n",
       "      <th>joining_date</th>\n",
       "      <th>joined_through_referral</th>\n",
       "      <th>referral_id</th>\n",
       "      <th>...</th>\n",
       "      <th>points_in_wallet</th>\n",
       "      <th>used_special_discount</th>\n",
       "      <th>offer_application_preference</th>\n",
       "      <th>past_complaint</th>\n",
       "      <th>complaint_status</th>\n",
       "      <th>feedback</th>\n",
       "      <th>churn_risk_score</th>\n",
       "      <th>Day</th>\n",
       "      <th>Month</th>\n",
       "      <th>Year</th>\n",
       "    </tr>\n",
       "  </thead>\n",
       "  <tbody>\n",
       "    <tr>\n",
       "      <th>0</th>\n",
       "      <td>fffe4300490044003600300030003800</td>\n",
       "      <td>Pattie Morrisey</td>\n",
       "      <td>18</td>\n",
       "      <td>1</td>\n",
       "      <td>XW0DQ7H</td>\n",
       "      <td>3.0</td>\n",
       "      <td>1</td>\n",
       "      <td>2017-08-17</td>\n",
       "      <td>0</td>\n",
       "      <td>xxxxxxxx</td>\n",
       "      <td>...</td>\n",
       "      <td>6.661535</td>\n",
       "      <td>Yes</td>\n",
       "      <td>Yes</td>\n",
       "      <td>No</td>\n",
       "      <td>Not Applicable</td>\n",
       "      <td>Products always in Stock</td>\n",
       "      <td>2</td>\n",
       "      <td>17</td>\n",
       "      <td>8</td>\n",
       "      <td>2017</td>\n",
       "    </tr>\n",
       "    <tr>\n",
       "      <th>1</th>\n",
       "      <td>fffe43004900440032003100300035003700</td>\n",
       "      <td>Traci Peery</td>\n",
       "      <td>32</td>\n",
       "      <td>1</td>\n",
       "      <td>5K0N3X1</td>\n",
       "      <td>2.0</td>\n",
       "      <td>2</td>\n",
       "      <td>2017-08-28</td>\n",
       "      <td>0</td>\n",
       "      <td>CID21329</td>\n",
       "      <td>...</td>\n",
       "      <td>NaN</td>\n",
       "      <td>Yes</td>\n",
       "      <td>No</td>\n",
       "      <td>Yes</td>\n",
       "      <td>Solved</td>\n",
       "      <td>Quality Customer Care</td>\n",
       "      <td>1</td>\n",
       "      <td>28</td>\n",
       "      <td>8</td>\n",
       "      <td>2017</td>\n",
       "    </tr>\n",
       "    <tr>\n",
       "      <th>2</th>\n",
       "      <td>fffe4300490044003100390032003600</td>\n",
       "      <td>Merideth Mcmeen</td>\n",
       "      <td>44</td>\n",
       "      <td>1</td>\n",
       "      <td>1F2TCL3</td>\n",
       "      <td>1.0</td>\n",
       "      <td>3</td>\n",
       "      <td>2016-11-11</td>\n",
       "      <td>1</td>\n",
       "      <td>CID12313</td>\n",
       "      <td>...</td>\n",
       "      <td>6.215987</td>\n",
       "      <td>No</td>\n",
       "      <td>Yes</td>\n",
       "      <td>Yes</td>\n",
       "      <td>Solved in Follow-up</td>\n",
       "      <td>Poor Website</td>\n",
       "      <td>5</td>\n",
       "      <td>11</td>\n",
       "      <td>11</td>\n",
       "      <td>2016</td>\n",
       "    </tr>\n",
       "    <tr>\n",
       "      <th>3</th>\n",
       "      <td>fffe43004900440036003000330031003600</td>\n",
       "      <td>Eufemia Cardwell</td>\n",
       "      <td>37</td>\n",
       "      <td>2</td>\n",
       "      <td>VJGJ33N</td>\n",
       "      <td>2.0</td>\n",
       "      <td>3</td>\n",
       "      <td>2016-10-29</td>\n",
       "      <td>1</td>\n",
       "      <td>CID3793</td>\n",
       "      <td>...</td>\n",
       "      <td>6.341523</td>\n",
       "      <td>No</td>\n",
       "      <td>Yes</td>\n",
       "      <td>Yes</td>\n",
       "      <td>Unsolved</td>\n",
       "      <td>Poor Website</td>\n",
       "      <td>5</td>\n",
       "      <td>29</td>\n",
       "      <td>10</td>\n",
       "      <td>2016</td>\n",
       "    </tr>\n",
       "    <tr>\n",
       "      <th>4</th>\n",
       "      <td>fffe43004900440031003900350030003600</td>\n",
       "      <td>Meghan Kosak</td>\n",
       "      <td>31</td>\n",
       "      <td>1</td>\n",
       "      <td>SVZXCWB</td>\n",
       "      <td>2.0</td>\n",
       "      <td>3</td>\n",
       "      <td>2017-09-12</td>\n",
       "      <td>0</td>\n",
       "      <td>xxxxxxxx</td>\n",
       "      <td>...</td>\n",
       "      <td>6.496865</td>\n",
       "      <td>No</td>\n",
       "      <td>Yes</td>\n",
       "      <td>Yes</td>\n",
       "      <td>Solved</td>\n",
       "      <td>Poor Website</td>\n",
       "      <td>5</td>\n",
       "      <td>12</td>\n",
       "      <td>9</td>\n",
       "      <td>2017</td>\n",
       "    </tr>\n",
       "  </tbody>\n",
       "</table>\n",
       "<p>5 rows × 28 columns</p>\n",
       "</div>"
      ],
      "text/plain": [
       "                            customer_id              Name  age  gender  \\\n",
       "0      fffe4300490044003600300030003800   Pattie Morrisey   18       1   \n",
       "1  fffe43004900440032003100300035003700       Traci Peery   32       1   \n",
       "2      fffe4300490044003100390032003600   Merideth Mcmeen   44       1   \n",
       "3  fffe43004900440036003000330031003600  Eufemia Cardwell   37       2   \n",
       "4  fffe43004900440031003900350030003600      Meghan Kosak   31       1   \n",
       "\n",
       "  security_no  region_category  membership_category joining_date  \\\n",
       "0     XW0DQ7H              3.0                    1   2017-08-17   \n",
       "1     5K0N3X1              2.0                    2   2017-08-28   \n",
       "2     1F2TCL3              1.0                    3   2016-11-11   \n",
       "3     VJGJ33N              2.0                    3   2016-10-29   \n",
       "4     SVZXCWB              2.0                    3   2017-09-12   \n",
       "\n",
       "   joined_through_referral referral_id  ...  points_in_wallet  \\\n",
       "0                        0    xxxxxxxx  ...          6.661535   \n",
       "1                        0    CID21329  ...               NaN   \n",
       "2                        1    CID12313  ...          6.215987   \n",
       "3                        1     CID3793  ...          6.341523   \n",
       "4                        0    xxxxxxxx  ...          6.496865   \n",
       "\n",
       "   used_special_discount  offer_application_preference past_complaint  \\\n",
       "0                    Yes                           Yes             No   \n",
       "1                    Yes                            No            Yes   \n",
       "2                     No                           Yes            Yes   \n",
       "3                     No                           Yes            Yes   \n",
       "4                     No                           Yes            Yes   \n",
       "\n",
       "      complaint_status                  feedback  churn_risk_score Day  Month  \\\n",
       "0       Not Applicable  Products always in Stock                 2  17      8   \n",
       "1               Solved     Quality Customer Care                 1  28      8   \n",
       "2  Solved in Follow-up              Poor Website                 5  11     11   \n",
       "3             Unsolved              Poor Website                 5  29     10   \n",
       "4               Solved              Poor Website                 5  12      9   \n",
       "\n",
       "   Year  \n",
       "0  2017  \n",
       "1  2017  \n",
       "2  2016  \n",
       "3  2016  \n",
       "4  2017  \n",
       "\n",
       "[5 rows x 28 columns]"
      ]
     },
     "execution_count": 71,
     "metadata": {},
     "output_type": "execute_result"
    }
   ],
   "source": [
    "train.head()"
   ]
  },
  {
   "cell_type": "code",
   "execution_count": 72,
   "metadata": {},
   "outputs": [
    {
     "data": {
      "text/html": [
       "<div>\n",
       "<style scoped>\n",
       "    .dataframe tbody tr th:only-of-type {\n",
       "        vertical-align: middle;\n",
       "    }\n",
       "\n",
       "    .dataframe tbody tr th {\n",
       "        vertical-align: top;\n",
       "    }\n",
       "\n",
       "    .dataframe thead th {\n",
       "        text-align: right;\n",
       "    }\n",
       "</style>\n",
       "<table border=\"1\" class=\"dataframe\">\n",
       "  <thead>\n",
       "    <tr style=\"text-align: right;\">\n",
       "      <th></th>\n",
       "      <th>customer_id</th>\n",
       "      <th>Name</th>\n",
       "      <th>age</th>\n",
       "      <th>gender</th>\n",
       "      <th>security_no</th>\n",
       "      <th>region_category</th>\n",
       "      <th>membership_category</th>\n",
       "      <th>joining_date</th>\n",
       "      <th>joined_through_referral</th>\n",
       "      <th>referral_id</th>\n",
       "      <th>...</th>\n",
       "      <th>days_since_last_login</th>\n",
       "      <th>avg_time_spent</th>\n",
       "      <th>avg_transaction_value</th>\n",
       "      <th>avg_frequency_login_days</th>\n",
       "      <th>points_in_wallet</th>\n",
       "      <th>used_special_discount</th>\n",
       "      <th>offer_application_preference</th>\n",
       "      <th>past_complaint</th>\n",
       "      <th>complaint_status</th>\n",
       "      <th>feedback</th>\n",
       "    </tr>\n",
       "  </thead>\n",
       "  <tbody>\n",
       "    <tr>\n",
       "      <th>0</th>\n",
       "      <td>fffe43004900440031003700300030003400</td>\n",
       "      <td>Alethia Meints</td>\n",
       "      <td>50</td>\n",
       "      <td>1</td>\n",
       "      <td>OQJ1XAY</td>\n",
       "      <td>3.0</td>\n",
       "      <td>2</td>\n",
       "      <td>2015-11-02</td>\n",
       "      <td>0</td>\n",
       "      <td>xxxxxxxx</td>\n",
       "      <td>...</td>\n",
       "      <td>12</td>\n",
       "      <td>5.956511</td>\n",
       "      <td>10.614510</td>\n",
       "      <td>7.0</td>\n",
       "      <td>6.598277</td>\n",
       "      <td>Yes</td>\n",
       "      <td>No</td>\n",
       "      <td>No</td>\n",
       "      <td>Not Applicable</td>\n",
       "      <td>Poor Product Quality</td>\n",
       "    </tr>\n",
       "    <tr>\n",
       "      <th>1</th>\n",
       "      <td>fffe43004900440031003900370037003300</td>\n",
       "      <td>Ming Lopez</td>\n",
       "      <td>41</td>\n",
       "      <td>2</td>\n",
       "      <td>OUQRPKO</td>\n",
       "      <td>3.0</td>\n",
       "      <td>4</td>\n",
       "      <td>2016-03-01</td>\n",
       "      <td>0</td>\n",
       "      <td>xxxxxxxx</td>\n",
       "      <td>...</td>\n",
       "      <td>11</td>\n",
       "      <td>3.632309</td>\n",
       "      <td>9.174133</td>\n",
       "      <td>9.0</td>\n",
       "      <td>6.587550</td>\n",
       "      <td>Yes</td>\n",
       "      <td>No</td>\n",
       "      <td>No</td>\n",
       "      <td>Not Applicable</td>\n",
       "      <td>Poor Website</td>\n",
       "    </tr>\n",
       "    <tr>\n",
       "      <th>2</th>\n",
       "      <td>fffe43004900440034003800360037003000</td>\n",
       "      <td>Carina Flannigan</td>\n",
       "      <td>31</td>\n",
       "      <td>1</td>\n",
       "      <td>02J2RE7</td>\n",
       "      <td>1.0</td>\n",
       "      <td>5</td>\n",
       "      <td>2017-03-03</td>\n",
       "      <td>0</td>\n",
       "      <td>xxxxxxxx</td>\n",
       "      <td>...</td>\n",
       "      <td>18</td>\n",
       "      <td>5.372311</td>\n",
       "      <td>8.214262</td>\n",
       "      <td>21.0</td>\n",
       "      <td>6.570575</td>\n",
       "      <td>Yes</td>\n",
       "      <td>No</td>\n",
       "      <td>Yes</td>\n",
       "      <td>Solved in Follow-up</td>\n",
       "      <td>No reason specified</td>\n",
       "    </tr>\n",
       "    <tr>\n",
       "      <th>3</th>\n",
       "      <td>fffe43004900440036003200370033003400</td>\n",
       "      <td>Kyung Wanner</td>\n",
       "      <td>64</td>\n",
       "      <td>2</td>\n",
       "      <td>5YEQIF1</td>\n",
       "      <td>1.0</td>\n",
       "      <td>5</td>\n",
       "      <td>2017-08-18</td>\n",
       "      <td>1</td>\n",
       "      <td>CID8941</td>\n",
       "      <td>...</td>\n",
       "      <td>-999</td>\n",
       "      <td>3.797061</td>\n",
       "      <td>10.513513</td>\n",
       "      <td>11.0</td>\n",
       "      <td>6.613344</td>\n",
       "      <td>Yes</td>\n",
       "      <td>No</td>\n",
       "      <td>Yes</td>\n",
       "      <td>No Information Available</td>\n",
       "      <td>Too many ads</td>\n",
       "    </tr>\n",
       "    <tr>\n",
       "      <th>4</th>\n",
       "      <td>fffe43004900440035003000370031003900</td>\n",
       "      <td>Enola Gatto</td>\n",
       "      <td>16</td>\n",
       "      <td>1</td>\n",
       "      <td>100RYB5</td>\n",
       "      <td>1.0</td>\n",
       "      <td>3</td>\n",
       "      <td>2015-05-05</td>\n",
       "      <td>1</td>\n",
       "      <td>CID5690</td>\n",
       "      <td>...</td>\n",
       "      <td>6</td>\n",
       "      <td>5.857590</td>\n",
       "      <td>10.613390</td>\n",
       "      <td>8.0</td>\n",
       "      <td>5.700605</td>\n",
       "      <td>No</td>\n",
       "      <td>Yes</td>\n",
       "      <td>Yes</td>\n",
       "      <td>Solved in Follow-up</td>\n",
       "      <td>Poor Website</td>\n",
       "    </tr>\n",
       "  </tbody>\n",
       "</table>\n",
       "<p>5 rows × 24 columns</p>\n",
       "</div>"
      ],
      "text/plain": [
       "                            customer_id              Name  age  gender  \\\n",
       "0  fffe43004900440031003700300030003400    Alethia Meints   50       1   \n",
       "1  fffe43004900440031003900370037003300        Ming Lopez   41       2   \n",
       "2  fffe43004900440034003800360037003000  Carina Flannigan   31       1   \n",
       "3  fffe43004900440036003200370033003400      Kyung Wanner   64       2   \n",
       "4  fffe43004900440035003000370031003900       Enola Gatto   16       1   \n",
       "\n",
       "  security_no  region_category  membership_category joining_date  \\\n",
       "0     OQJ1XAY              3.0                    2   2015-11-02   \n",
       "1     OUQRPKO              3.0                    4   2016-03-01   \n",
       "2     02J2RE7              1.0                    5   2017-03-03   \n",
       "3     5YEQIF1              1.0                    5   2017-08-18   \n",
       "4     100RYB5              1.0                    3   2015-05-05   \n",
       "\n",
       "   joined_through_referral referral_id  ...  days_since_last_login  \\\n",
       "0                        0    xxxxxxxx  ...                     12   \n",
       "1                        0    xxxxxxxx  ...                     11   \n",
       "2                        0    xxxxxxxx  ...                     18   \n",
       "3                        1     CID8941  ...                   -999   \n",
       "4                        1     CID5690  ...                      6   \n",
       "\n",
       "   avg_time_spent  avg_transaction_value avg_frequency_login_days  \\\n",
       "0        5.956511              10.614510                      7.0   \n",
       "1        3.632309               9.174133                      9.0   \n",
       "2        5.372311               8.214262                     21.0   \n",
       "3        3.797061              10.513513                     11.0   \n",
       "4        5.857590              10.613390                      8.0   \n",
       "\n",
       "   points_in_wallet  used_special_discount  offer_application_preference  \\\n",
       "0          6.598277                    Yes                            No   \n",
       "1          6.587550                    Yes                            No   \n",
       "2          6.570575                    Yes                            No   \n",
       "3          6.613344                    Yes                            No   \n",
       "4          5.700605                     No                           Yes   \n",
       "\n",
       "  past_complaint          complaint_status              feedback  \n",
       "0             No            Not Applicable  Poor Product Quality  \n",
       "1             No            Not Applicable          Poor Website  \n",
       "2            Yes       Solved in Follow-up   No reason specified  \n",
       "3            Yes  No Information Available          Too many ads  \n",
       "4            Yes       Solved in Follow-up          Poor Website  \n",
       "\n",
       "[5 rows x 24 columns]"
      ]
     },
     "execution_count": 72,
     "metadata": {},
     "output_type": "execute_result"
    }
   ],
   "source": [
    "test.head()"
   ]
  },
  {
   "cell_type": "code",
   "execution_count": 76,
   "metadata": {},
   "outputs": [
    {
     "name": "stdout",
     "output_type": "stream",
     "text": [
      "<class 'pandas.core.frame.DataFrame'>\n",
      "RangeIndex: 36992 entries, 0 to 36991\n",
      "Data columns (total 28 columns):\n",
      " #   Column                        Non-Null Count  Dtype         \n",
      "---  ------                        --------------  -----         \n",
      " 0   customer_id                   36992 non-null  object        \n",
      " 1   Name                          36992 non-null  object        \n",
      " 2   age                           36992 non-null  int64         \n",
      " 3   gender                        36992 non-null  int64         \n",
      " 4   security_no                   36992 non-null  object        \n",
      " 5   region_category               36992 non-null  float64       \n",
      " 6   membership_category           36992 non-null  int64         \n",
      " 7   joining_date                  36992 non-null  datetime64[ns]\n",
      " 8   joined_through_referral       36992 non-null  int64         \n",
      " 9   referral_id                   36992 non-null  object        \n",
      " 10  preferred_offer_types         36992 non-null  int64         \n",
      " 11  medium_of_operation           36992 non-null  int64         \n",
      " 12  internet_option               36992 non-null  int64         \n",
      " 13  last_visit_time               36992 non-null  object        \n",
      " 14  days_since_last_login         36992 non-null  int64         \n",
      " 15  avg_time_spent                36992 non-null  float64       \n",
      " 16  avg_transaction_value         36992 non-null  float64       \n",
      " 17  avg_frequency_login_days      36992 non-null  object        \n",
      " 18  points_in_wallet              33413 non-null  float64       \n",
      " 19  used_special_discount         36992 non-null  object        \n",
      " 20  offer_application_preference  36992 non-null  object        \n",
      " 21  past_complaint                36992 non-null  object        \n",
      " 22  complaint_status              36992 non-null  object        \n",
      " 23  feedback                      36992 non-null  object        \n",
      " 24  churn_risk_score              36992 non-null  int64         \n",
      " 25  Day                           36992 non-null  int64         \n",
      " 26  Month                         36992 non-null  int64         \n",
      " 27  Year                          36992 non-null  int64         \n",
      "dtypes: datetime64[ns](1), float64(4), int64(12), object(11)\n",
      "memory usage: 7.9+ MB\n"
     ]
    }
   ],
   "source": [
    "train.info()"
   ]
  },
  {
   "cell_type": "code",
   "execution_count": 77,
   "metadata": {},
   "outputs": [
    {
     "name": "stdout",
     "output_type": "stream",
     "text": [
      "<class 'pandas.core.frame.DataFrame'>\n",
      "RangeIndex: 19919 entries, 0 to 19918\n",
      "Data columns (total 24 columns):\n",
      " #   Column                        Non-Null Count  Dtype         \n",
      "---  ------                        --------------  -----         \n",
      " 0   customer_id                   19919 non-null  object        \n",
      " 1   Name                          19919 non-null  object        \n",
      " 2   age                           19919 non-null  int64         \n",
      " 3   gender                        19919 non-null  int64         \n",
      " 4   security_no                   19919 non-null  object        \n",
      " 5   region_category               19919 non-null  float64       \n",
      " 6   membership_category           19919 non-null  int64         \n",
      " 7   joining_date                  19919 non-null  datetime64[ns]\n",
      " 8   joined_through_referral       19919 non-null  int64         \n",
      " 9   referral_id                   19919 non-null  object        \n",
      " 10  preferred_offer_types         19919 non-null  int64         \n",
      " 11  medium_of_operation           19919 non-null  int64         \n",
      " 12  internet_option               19919 non-null  int64         \n",
      " 13  last_visit_time               19919 non-null  object        \n",
      " 14  days_since_last_login         19919 non-null  int64         \n",
      " 15  avg_time_spent                19919 non-null  float64       \n",
      " 16  avg_transaction_value         19919 non-null  float64       \n",
      " 17  avg_frequency_login_days      19919 non-null  object        \n",
      " 18  points_in_wallet              17895 non-null  float64       \n",
      " 19  used_special_discount         19919 non-null  object        \n",
      " 20  offer_application_preference  19919 non-null  object        \n",
      " 21  past_complaint                19919 non-null  object        \n",
      " 22  complaint_status              19919 non-null  object        \n",
      " 23  feedback                      19919 non-null  object        \n",
      "dtypes: datetime64[ns](1), float64(4), int64(8), object(11)\n",
      "memory usage: 3.6+ MB\n"
     ]
    }
   ],
   "source": [
    "test.info()"
   ]
  },
  {
   "cell_type": "code",
   "execution_count": 67,
   "metadata": {},
   "outputs": [
    {
     "data": {
      "text/plain": [
       "<AxesSubplot:>"
      ]
     },
     "execution_count": 67,
     "metadata": {},
     "output_type": "execute_result"
    },
    {
     "data": {
      "image/png": "[encoded data removed]",
      "text/plain": [
       "<Figure size 864x720 with 1 Axes>"
      ]
     },
     "metadata": {
      "needs_background": "light"
     },
     "output_type": "display_data"
    }
   ],
   "source": [
    "plt.figure(figsize=(12,10))\n",
    "sns.heatmap(train.isnull(), cbar=False)"
   ]
  },
  {
   "cell_type": "code",
   "execution_count": 68,
   "metadata": {},
   "outputs": [
    {
     "data": {
      "text/plain": [
       "<AxesSubplot:>"
      ]
     },
     "execution_count": 68,
     "metadata": {},
     "output_type": "execute_result"
    },
    {
     "data": {
      "image/png": "[encoded data removed]",
      "text/plain": [
       "<Figure size 864x720 with 1 Axes>"
      ]
     },
     "metadata": {
      "needs_background": "light"
     },
     "output_type": "display_data"
    }
   ],
   "source": [
    "plt.figure(figsize=(12,10))\n",
    "sns.heatmap(test.isnull(), cbar=False)"
   ]
  },
  {
   "cell_type": "code",
   "execution_count": 9,
   "metadata": {},
   "outputs": [
    {
     "data": {
      "text/plain": [
       "<AxesSubplot:>"
      ]
     },
     "execution_count": 9,
     "metadata": {},
     "output_type": "execute_result"
    },
    {
     "data": {
      "image/png": "[encoded data removed]",
      "text/plain": [
       "<Figure size 864x720 with 2 Axes>"
      ]
     },
     "metadata": {
      "needs_background": "light"
     },
     "output_type": "display_data"
    }
   ],
   "source": [
    "plt.figure(figsize=(12,10))\n",
    "sns.heatmap(train.corr())"
   ]
  },
  {
   "cell_type": "code",
   "execution_count": 10,
   "metadata": {},
   "outputs": [
    {
     "data": {
      "text/plain": [
       "((36992, 25), (19919, 24))"
      ]
     },
     "execution_count": 10,
     "metadata": {},
     "output_type": "execute_result"
    }
   ],
   "source": [
    "train.shape, test.shape"
   ]
  },
  {
   "cell_type": "markdown",
   "metadata": {},
   "source": [
    "### Name"
   ]
  },
  {
   "cell_type": "code",
   "execution_count": 11,
   "metadata": {},
   "outputs": [
    {
     "data": {
      "text/plain": [
       "(36992, 19919)"
      ]
     },
     "execution_count": 11,
     "metadata": {},
     "output_type": "execute_result"
    }
   ],
   "source": [
    "len(train['Name'].unique()), len(test['Name'].unique())"
   ]
  },
  {
   "cell_type": "code",
   "execution_count": 12,
   "metadata": {},
   "outputs": [
    {
     "data": {
      "text/plain": [
       "(36992, 19919)"
      ]
     },
     "execution_count": 12,
     "metadata": {},
     "output_type": "execute_result"
    }
   ],
   "source": [
    "len(train['security_no'].unique()), len(test['security_no'].unique())"
   ]
  },
  {
   "cell_type": "code",
   "execution_count": 13,
   "metadata": {},
   "outputs": [
    {
     "data": {
      "text/plain": [
       "(11359, 7603)"
      ]
     },
     "execution_count": 13,
     "metadata": {},
     "output_type": "execute_result"
    }
   ],
   "source": [
    "len(train['referral_id'].unique()), len(test['referral_id'].unique())"
   ]
  },
  {
   "cell_type": "code",
   "execution_count": 14,
   "metadata": {},
   "outputs": [
    {
     "data": {
      "text/plain": [
       "array(['F', 'M', 'Unknown'], dtype=object)"
      ]
     },
     "execution_count": 14,
     "metadata": {},
     "output_type": "execute_result"
    }
   ],
   "source": [
    "train['gender'].unique()"
   ]
  },
  {
   "cell_type": "code",
   "execution_count": 15,
   "metadata": {},
   "outputs": [],
   "source": [
    "train['gender'] = train['gender'].replace({'F':1, 'M':2, 'Unknown':3})"
   ]
  },
  {
   "cell_type": "code",
   "execution_count": 16,
   "metadata": {},
   "outputs": [],
   "source": [
    "test['gender'] = test['gender'].replace({'F':1, 'M':2, 'Unknown':3})"
   ]
  },
  {
   "cell_type": "code",
   "execution_count": 17,
   "metadata": {},
   "outputs": [
    {
     "data": {
      "text/plain": [
       "(array(['Village', 'City', 'Town', nan], dtype=object),\n",
       " array(['Village', 'Town', 'City', nan], dtype=object))"
      ]
     },
     "execution_count": 17,
     "metadata": {},
     "output_type": "execute_result"
    }
   ],
   "source": [
    "train['region_category'].unique(), test['region_category'].unique(), "
   ]
  },
  {
   "cell_type": "code",
   "execution_count": 18,
   "metadata": {},
   "outputs": [
    {
     "data": {
      "text/plain": [
       "Town       14128\n",
       "City       12737\n",
       "Village     4699\n",
       "Name: region_category, dtype: int64"
      ]
     },
     "execution_count": 18,
     "metadata": {},
     "output_type": "execute_result"
    }
   ],
   "source": [
    "train['region_category'].value_counts()"
   ]
  },
  {
   "cell_type": "code",
   "execution_count": 19,
   "metadata": {},
   "outputs": [
    {
     "data": {
      "text/plain": [
       "Town       7635\n",
       "City       6792\n",
       "Village    2544\n",
       "Name: region_category, dtype: int64"
      ]
     },
     "execution_count": 19,
     "metadata": {},
     "output_type": "execute_result"
    }
   ],
   "source": [
    "test['region_category'].value_counts()"
   ]
  },
  {
   "cell_type": "code",
   "execution_count": 20,
   "metadata": {},
   "outputs": [],
   "source": [
    "train['region_category'].replace({'Town':1, 'City':2, 'Village':3}, inplace=True)\n",
    "test['region_category'].replace({'Town':1, 'City':2, 'Village':3}, inplace=True)"
   ]
  },
  {
   "cell_type": "code",
   "execution_count": 21,
   "metadata": {},
   "outputs": [],
   "source": [
    "train['region_category'].fillna(train['region_category'].mode()[0], inplace=True)"
   ]
  },
  {
   "cell_type": "code",
   "execution_count": 22,
   "metadata": {},
   "outputs": [],
   "source": [
    "test['region_category'].fillna(test['region_category'].mode()[0], inplace=True)"
   ]
  },
  {
   "cell_type": "code",
   "execution_count": 23,
   "metadata": {},
   "outputs": [
    {
     "data": {
      "text/plain": [
       "Basic Membership       7724\n",
       "No Membership          7692\n",
       "Gold Membership        6795\n",
       "Silver Membership      5988\n",
       "Premium Membership     4455\n",
       "Platinum Membership    4338\n",
       "Name: membership_category, dtype: int64"
      ]
     },
     "execution_count": 23,
     "metadata": {},
     "output_type": "execute_result"
    }
   ],
   "source": [
    "train['membership_category'].value_counts()"
   ]
  },
  {
   "cell_type": "code",
   "execution_count": 24,
   "metadata": {},
   "outputs": [
    {
     "data": {
      "text/plain": [
       "No Membership          4123\n",
       "Basic Membership       4084\n",
       "Gold Membership        3750\n",
       "Silver Membership      3199\n",
       "Platinum Membership    2398\n",
       "Premium Membership     2365\n",
       "Name: membership_category, dtype: int64"
      ]
     },
     "execution_count": 24,
     "metadata": {},
     "output_type": "execute_result"
    }
   ],
   "source": [
    "test['membership_category'].value_counts()"
   ]
  },
  {
   "cell_type": "code",
   "execution_count": 25,
   "metadata": {},
   "outputs": [
    {
     "data": {
      "text/plain": [
       "array(['Platinum Membership', 'Premium Membership', 'No Membership',\n",
       "       'Gold Membership', 'Silver Membership', 'Basic Membership'],\n",
       "      dtype=object)"
      ]
     },
     "execution_count": 25,
     "metadata": {},
     "output_type": "execute_result"
    }
   ],
   "source": [
    "train['membership_category'].unique()"
   ]
  },
  {
   "cell_type": "code",
   "execution_count": 26,
   "metadata": {},
   "outputs": [],
   "source": [
    "train['membership_category'].replace({'Platinum Membership':1, 'Premium Membership':2, 'No Membership':3,\n",
    "       'Gold Membership':4, 'Silver Membership':5, 'Basic Membership':6}, inplace=True)\n",
    "test['membership_category'].replace({'Platinum Membership':1, 'Premium Membership':2, 'No Membership':3,\n",
    "       'Gold Membership':4, 'Silver Membership':5, 'Basic Membership':6}, inplace=True)"
   ]
  },
  {
   "cell_type": "code",
   "execution_count": null,
   "metadata": {},
   "outputs": [],
   "source": []
  },
  {
   "cell_type": "code",
   "execution_count": null,
   "metadata": {},
   "outputs": [],
   "source": []
  },
  {
   "cell_type": "code",
   "execution_count": 27,
   "metadata": {},
   "outputs": [],
   "source": [
    "train['joining_date'] = pd.to_datetime(train['joining_date'])"
   ]
  },
  {
   "cell_type": "code",
   "execution_count": 28,
   "metadata": {},
   "outputs": [],
   "source": [
    "test['joining_date'] = pd.to_datetime(test['joining_date'])"
   ]
  },
  {
   "cell_type": "code",
   "execution_count": 29,
   "metadata": {},
   "outputs": [],
   "source": [
    "train['Day'] = pd.DatetimeIndex(train['joining_date']).day\n",
    "train['Month'] = pd.DatetimeIndex(train['joining_date']).month\n",
    "train['Year'] = pd.DatetimeIndex(train['joining_date']).year"
   ]
  },
  {
   "cell_type": "code",
   "execution_count": null,
   "metadata": {},
   "outputs": [],
   "source": []
  },
  {
   "cell_type": "code",
   "execution_count": null,
   "metadata": {},
   "outputs": [],
   "source": []
  },
  {
   "cell_type": "code",
   "execution_count": null,
   "metadata": {},
   "outputs": [],
   "source": []
  },
  {
   "cell_type": "code",
   "execution_count": 30,
   "metadata": {},
   "outputs": [
    {
     "data": {
      "text/plain": [
       "(array(['No', '?', 'Yes'], dtype=object),\n",
       " array(['No', 'Yes', '?'], dtype=object))"
      ]
     },
     "execution_count": 30,
     "metadata": {},
     "output_type": "execute_result"
    }
   ],
   "source": [
    "train['joined_through_referral'].unique(), test['joined_through_referral'].unique()"
   ]
  },
  {
   "cell_type": "code",
   "execution_count": 31,
   "metadata": {},
   "outputs": [
    {
     "data": {
      "text/plain": [
       "(No     15839\n",
       " Yes    15715\n",
       " ?       5438\n",
       " Name: joined_through_referral, dtype: int64,\n",
       " Yes    8617\n",
       " No     8304\n",
       " ?      2998\n",
       " Name: joined_through_referral, dtype: int64)"
      ]
     },
     "execution_count": 31,
     "metadata": {},
     "output_type": "execute_result"
    }
   ],
   "source": [
    "train['joined_through_referral'].value_counts(), test['joined_through_referral'].value_counts()"
   ]
  },
  {
   "cell_type": "code",
   "execution_count": 32,
   "metadata": {},
   "outputs": [],
   "source": [
    "train['joined_through_referral'].replace({'Yes':1, 'No':0, '?':np.random.randint(0,2)}, inplace=True)\n",
    "test['joined_through_referral'].replace({'Yes':1, 'No':0, '?':np.random.randint(0,2)}, inplace=True)"
   ]
  },
  {
   "cell_type": "code",
   "execution_count": 33,
   "metadata": {},
   "outputs": [],
   "source": [
    "# train['joined_through_referral'].replace({'?':np.nan}, inplace=True)\n",
    "# test['joined_through_referral'].replace({'?':np.nan}, inplace=True)"
   ]
  },
  {
   "cell_type": "code",
   "execution_count": 34,
   "metadata": {},
   "outputs": [],
   "source": [
    "# train['joined_through_referral'].fillna(np.random.randint(0,2), inplace=True)\n",
    "# test['joined_through_referral'].fillna(np.random.randint(0,2), inplace=True)"
   ]
  },
  {
   "cell_type": "code",
   "execution_count": null,
   "metadata": {},
   "outputs": [],
   "source": []
  },
  {
   "cell_type": "code",
   "execution_count": null,
   "metadata": {},
   "outputs": [],
   "source": []
  },
  {
   "cell_type": "code",
   "execution_count": 35,
   "metadata": {},
   "outputs": [
    {
     "data": {
      "text/plain": [
       "(array(['Gift Vouchers/Coupons', 'Credit/Debit Card Offers',\n",
       "        'Without Offers', nan], dtype=object),\n",
       " array(['Without Offers', 'Gift Vouchers/Coupons',\n",
       "        'Credit/Debit Card Offers', nan], dtype=object))"
      ]
     },
     "execution_count": 35,
     "metadata": {},
     "output_type": "execute_result"
    }
   ],
   "source": [
    "train['preferred_offer_types'].unique(), test['preferred_offer_types'].unique()"
   ]
  },
  {
   "cell_type": "code",
   "execution_count": 36,
   "metadata": {},
   "outputs": [],
   "source": [
    "train['preferred_offer_types'].fillna(train['preferred_offer_types'].mode()[0], inplace=True)\n",
    "test['preferred_offer_types'].fillna(train['preferred_offer_types'].mode()[0], inplace=True)"
   ]
  },
  {
   "cell_type": "code",
   "execution_count": 37,
   "metadata": {},
   "outputs": [],
   "source": [
    "train['preferred_offer_types'].replace({'Gift Vouchers/Coupons':1, 'Credit/Debit Card Offers':2,\n",
    "        'Without Offers':3}, inplace=True)\n",
    "test['preferred_offer_types'].replace({'Gift Vouchers/Coupons':1, 'Credit/Debit Card Offers':2,\n",
    "        'Without Offers':3}, inplace=True)"
   ]
  },
  {
   "cell_type": "code",
   "execution_count": null,
   "metadata": {},
   "outputs": [],
   "source": []
  },
  {
   "cell_type": "code",
   "execution_count": null,
   "metadata": {},
   "outputs": [],
   "source": []
  },
  {
   "cell_type": "code",
   "execution_count": 38,
   "metadata": {},
   "outputs": [
    {
     "data": {
      "text/plain": [
       "(array(['?', 'Desktop', 'Smartphone', 'Both'], dtype=object),\n",
       " array(['Smartphone', 'Desktop', 'Both', '?'], dtype=object))"
      ]
     },
     "execution_count": 38,
     "metadata": {},
     "output_type": "execute_result"
    }
   ],
   "source": [
    "train['medium_of_operation'].unique(), test['medium_of_operation'].unique()"
   ]
  },
  {
   "cell_type": "code",
   "execution_count": 39,
   "metadata": {},
   "outputs": [
    {
     "data": {
      "text/plain": [
       "(Desktop       13913\n",
       " Smartphone    13876\n",
       " ?              5393\n",
       " Both           3810\n",
       " Name: medium_of_operation, dtype: int64,\n",
       " Desktop       7463\n",
       " Smartphone    7405\n",
       " ?             2964\n",
       " Both          2087\n",
       " Name: medium_of_operation, dtype: int64)"
      ]
     },
     "execution_count": 39,
     "metadata": {},
     "output_type": "execute_result"
    }
   ],
   "source": [
    "train['medium_of_operation'].value_counts(),test['medium_of_operation'].value_counts()"
   ]
  },
  {
   "cell_type": "code",
   "execution_count": 40,
   "metadata": {},
   "outputs": [],
   "source": [
    "train['medium_of_operation'].replace({'?':np.random.randint(0,2), 'Desktop':1, 'Smartphone':2, 'Both':3}, inplace=True)\n",
    "test['medium_of_operation'].replace({'?':np.random.randint(0,2), 'Desktop':1, 'Smartphone':2, 'Both':3}, inplace=True)"
   ]
  },
  {
   "cell_type": "code",
   "execution_count": null,
   "metadata": {},
   "outputs": [],
   "source": []
  },
  {
   "cell_type": "code",
   "execution_count": null,
   "metadata": {},
   "outputs": [],
   "source": []
  },
  {
   "cell_type": "code",
   "execution_count": 41,
   "metadata": {},
   "outputs": [
    {
     "data": {
      "text/plain": [
       "(array(['Wi-Fi', 'Mobile_Data', 'Fiber_Optic'], dtype=object),\n",
       " array(['Wi-Fi', 'Fiber_Optic', 'Mobile_Data'], dtype=object))"
      ]
     },
     "execution_count": 41,
     "metadata": {},
     "output_type": "execute_result"
    }
   ],
   "source": [
    "train['internet_option'].unique(), test['internet_option'].unique()"
   ]
  },
  {
   "cell_type": "code",
   "execution_count": 42,
   "metadata": {},
   "outputs": [],
   "source": [
    "train['internet_option'].replace({'Wi-Fi':1, 'Mobile_Data':2, 'Fiber_Optic':3}, inplace=True)\n",
    "test['internet_option'].replace({'Wi-Fi':1, 'Mobile_Data':2, 'Fiber_Optic':3}, inplace=True)"
   ]
  },
  {
   "cell_type": "code",
   "execution_count": null,
   "metadata": {},
   "outputs": [],
   "source": []
  },
  {
   "cell_type": "code",
   "execution_count": null,
   "metadata": {},
   "outputs": [],
   "source": []
  },
  {
   "cell_type": "code",
   "execution_count": 43,
   "metadata": {},
   "outputs": [
    {
     "data": {
      "text/plain": [
       "(array([  17,   16,   14,   11,   20,   23,   10,   19,   15,   13, -999,\n",
       "           5,   12,    9,   21,   18,    1,   22,    4,    8,    3,    6,\n",
       "           2,   24,    7,   26,   25], dtype=int64),\n",
       " array([  12,   11,   18, -999,    6,   15,    3,   14,    4,   22,   24,\n",
       "           9,   10,   16,   19,   17,    7,   23,   13,    2,   21,    8,\n",
       "           5,   20,    1,   25,   26], dtype=int64))"
      ]
     },
     "execution_count": 43,
     "metadata": {},
     "output_type": "execute_result"
    }
   ],
   "source": [
    "train['days_since_last_login'].unique(), test['days_since_last_login'].unique()"
   ]
  },
  {
   "cell_type": "code",
   "execution_count": null,
   "metadata": {},
   "outputs": [],
   "source": []
  },
  {
   "cell_type": "code",
   "execution_count": null,
   "metadata": {},
   "outputs": [],
   "source": []
  },
  {
   "cell_type": "code",
   "execution_count": 44,
   "metadata": {},
   "outputs": [
    {
     "data": {
      "text/plain": [
       "(25961, 15703)"
      ]
     },
     "execution_count": 44,
     "metadata": {},
     "output_type": "execute_result"
    }
   ],
   "source": [
    "len(train['avg_time_spent'].unique()), len(test['avg_time_spent'].unique())"
   ]
  },
  {
   "cell_type": "code",
   "execution_count": 64,
   "metadata": {},
   "outputs": [
    {
     "name": "stderr",
     "output_type": "stream",
     "text": [
      "C:\\Users\\adih4\\AppData\\Roaming\\Python\\Python37\\site-packages\\seaborn\\_decorators.py:43: FutureWarning: Pass the following variable as a keyword arg: x. From version 0.12, the only valid positional argument will be `data`, and passing other arguments without an explicit keyword will result in an error or misinterpretation.\n",
      "  FutureWarning\n"
     ]
    },
    {
     "data": {
      "text/plain": [
       "<AxesSubplot:xlabel='avg_time_spent'>"
      ]
     },
     "execution_count": 64,
     "metadata": {},
     "output_type": "execute_result"
    },
    {
     "data": {
      "image/png": "[encoded data removed]",
      "text/plain": [
       "<Figure size 432x288 with 1 Axes>"
      ]
     },
     "metadata": {
      "needs_background": "light"
     },
     "output_type": "display_data"
    }
   ],
   "source": [
    "sns.boxplot(np.log(train['avg_time_spent']))"
   ]
  },
  {
   "cell_type": "code",
   "execution_count": 65,
   "metadata": {},
   "outputs": [
    {
     "name": "stderr",
     "output_type": "stream",
     "text": [
      "C:\\Users\\adih4\\AppData\\Roaming\\Python\\Python37\\site-packages\\seaborn\\_decorators.py:43: FutureWarning: Pass the following variable as a keyword arg: x. From version 0.12, the only valid positional argument will be `data`, and passing other arguments without an explicit keyword will result in an error or misinterpretation.\n",
      "  FutureWarning\n"
     ]
    },
    {
     "data": {
      "text/plain": [
       "<AxesSubplot:xlabel='avg_time_spent'>"
      ]
     },
     "execution_count": 65,
     "metadata": {},
     "output_type": "execute_result"
    },
    {
     "data": {
      "image/png": "[encoded data removed]",
      "text/plain": [
       "<Figure size 432x288 with 1 Axes>"
      ]
     },
     "metadata": {
      "needs_background": "light"
     },
     "output_type": "display_data"
    }
   ],
   "source": [
    "sns.boxplot(np.log(test['avg_time_spent']))"
   ]
  },
  {
   "cell_type": "code",
   "execution_count": 47,
   "metadata": {},
   "outputs": [
    {
     "name": "stderr",
     "output_type": "stream",
     "text": [
      "C:\\Users\\adih4\\AppData\\Roaming\\Python\\Python37\\site-packages\\pandas\\core\\arraylike.py:358: RuntimeWarning: invalid value encountered in log\n",
      "  result = getattr(ufunc, method)(*inputs, **kwargs)\n"
     ]
    }
   ],
   "source": [
    "train['avg_time_spent'] = np.log(train['avg_time_spent'])\n",
    "test['avg_time_spent'] = np.log(test['avg_time_spent'])"
   ]
  },
  {
   "cell_type": "code",
   "execution_count": 66,
   "metadata": {},
   "outputs": [],
   "source": [
    "train['avg_time_spent'].fillna(np.mean(train['avg_time_spent']), inplace=True)"
   ]
  },
  {
   "cell_type": "code",
   "execution_count": 75,
   "metadata": {},
   "outputs": [],
   "source": [
    "test['avg_time_spent'].fillna(np.mean(test['avg_time_spent']), inplace=True)"
   ]
  },
  {
   "cell_type": "code",
   "execution_count": null,
   "metadata": {},
   "outputs": [],
   "source": []
  },
  {
   "cell_type": "code",
   "execution_count": null,
   "metadata": {},
   "outputs": [],
   "source": []
  },
  {
   "cell_type": "code",
   "execution_count": 48,
   "metadata": {},
   "outputs": [
    {
     "name": "stderr",
     "output_type": "stream",
     "text": [
      "C:\\Users\\adih4\\AppData\\Roaming\\Python\\Python37\\site-packages\\seaborn\\_decorators.py:43: FutureWarning: Pass the following variable as a keyword arg: x. From version 0.12, the only valid positional argument will be `data`, and passing other arguments without an explicit keyword will result in an error or misinterpretation.\n",
      "  FutureWarning\n"
     ]
    },
    {
     "data": {
      "text/plain": [
       "<AxesSubplot:xlabel='avg_transaction_value'>"
      ]
     },
     "execution_count": 48,
     "metadata": {},
     "output_type": "execute_result"
    },
    {
     "data": {
      "image/png": "[encoded data removed]",
      "text/plain": [
       "<Figure size 432x288 with 1 Axes>"
      ]
     },
     "metadata": {
      "needs_background": "light"
     },
     "output_type": "display_data"
    }
   ],
   "source": [
    "sns.boxplot(np.log(train['avg_transaction_value']))"
   ]
  },
  {
   "cell_type": "code",
   "execution_count": 49,
   "metadata": {},
   "outputs": [
    {
     "name": "stderr",
     "output_type": "stream",
     "text": [
      "C:\\Users\\adih4\\AppData\\Roaming\\Python\\Python37\\site-packages\\seaborn\\_decorators.py:43: FutureWarning: Pass the following variable as a keyword arg: x. From version 0.12, the only valid positional argument will be `data`, and passing other arguments without an explicit keyword will result in an error or misinterpretation.\n",
      "  FutureWarning\n"
     ]
    },
    {
     "data": {
      "text/plain": [
       "<AxesSubplot:xlabel='avg_transaction_value'>"
      ]
     },
     "execution_count": 49,
     "metadata": {},
     "output_type": "execute_result"
    },
    {
     "data": {
      "image/png": "[encoded data removed]",
      "text/plain": [
       "<Figure size 432x288 with 1 Axes>"
      ]
     },
     "metadata": {
      "needs_background": "light"
     },
     "output_type": "display_data"
    }
   ],
   "source": [
    "sns.boxplot(np.log(test['avg_transaction_value']))"
   ]
  },
  {
   "cell_type": "code",
   "execution_count": 50,
   "metadata": {},
   "outputs": [],
   "source": [
    "train['avg_transaction_value'] = train['avg_transaction_value'].apply(np.log)\n",
    "test['avg_transaction_value'] = test['avg_transaction_value'].apply(np.log)"
   ]
  },
  {
   "cell_type": "code",
   "execution_count": null,
   "metadata": {},
   "outputs": [],
   "source": []
  },
  {
   "cell_type": "code",
   "execution_count": null,
   "metadata": {},
   "outputs": [],
   "source": []
  },
  {
   "cell_type": "code",
   "execution_count": 51,
   "metadata": {},
   "outputs": [],
   "source": [
    "train['avg_frequency_login_days'] = pd.to_numeric(train['avg_frequency_login_days'], errors='ignore')\n",
    "test['avg_frequency_login_days'] = pd.to_numeric(test['avg_frequency_login_days'], errors='ignore')"
   ]
  },
  {
   "cell_type": "code",
   "execution_count": 52,
   "metadata": {},
   "outputs": [],
   "source": [
    "train['avg_frequency_login_days'].replace({'Error':np.nan}, inplace=True)\n",
    "test['avg_frequency_login_days'].replace({'Error':np.nan}, inplace=True)"
   ]
  },
  {
   "cell_type": "code",
   "execution_count": 53,
   "metadata": {},
   "outputs": [],
   "source": [
    "train['avg_frequency_login_days'].fillna(train['avg_frequency_login_days'].mean, inplace=True)\n",
    "test['avg_frequency_login_days'].fillna(test['avg_frequency_login_days'].mean, inplace=True)"
   ]
  },
  {
   "cell_type": "code",
   "execution_count": null,
   "metadata": {},
   "outputs": [],
   "source": []
  },
  {
   "cell_type": "code",
   "execution_count": null,
   "metadata": {},
   "outputs": [],
   "source": []
  },
  {
   "cell_type": "code",
   "execution_count": 60,
   "metadata": {},
   "outputs": [
    {
     "name": "stderr",
     "output_type": "stream",
     "text": [
      "C:\\Users\\adih4\\AppData\\Roaming\\Python\\Python37\\site-packages\\pandas\\core\\arraylike.py:358: RuntimeWarning: invalid value encountered in log\n",
      "  result = getattr(ufunc, method)(*inputs, **kwargs)\n",
      "C:\\Users\\adih4\\AppData\\Roaming\\Python\\Python37\\site-packages\\seaborn\\_decorators.py:43: FutureWarning: Pass the following variable as a keyword arg: x. From version 0.12, the only valid positional argument will be `data`, and passing other arguments without an explicit keyword will result in an error or misinterpretation.\n",
      "  FutureWarning\n"
     ]
    },
    {
     "data": {
      "text/plain": [
       "<AxesSubplot:xlabel='points_in_wallet'>"
      ]
     },
     "execution_count": 60,
     "metadata": {},
     "output_type": "execute_result"
    },
    {
     "data": {
      "image/png": "[encoded data removed]",
      "text/plain": [
       "<Figure size 432x288 with 1 Axes>"
      ]
     },
     "metadata": {
      "needs_background": "light"
     },
     "output_type": "display_data"
    }
   ],
   "source": [
    "sns.boxplot(np.log(train['points_in_wallet']))"
   ]
  },
  {
   "cell_type": "code",
   "execution_count": 61,
   "metadata": {},
   "outputs": [
    {
     "name": "stderr",
     "output_type": "stream",
     "text": [
      "C:\\Users\\adih4\\AppData\\Roaming\\Python\\Python37\\site-packages\\pandas\\core\\arraylike.py:358: RuntimeWarning: invalid value encountered in log\n",
      "  result = getattr(ufunc, method)(*inputs, **kwargs)\n",
      "C:\\Users\\adih4\\AppData\\Roaming\\Python\\Python37\\site-packages\\seaborn\\_decorators.py:43: FutureWarning: Pass the following variable as a keyword arg: x. From version 0.12, the only valid positional argument will be `data`, and passing other arguments without an explicit keyword will result in an error or misinterpretation.\n",
      "  FutureWarning\n"
     ]
    },
    {
     "data": {
      "text/plain": [
       "<AxesSubplot:xlabel='points_in_wallet'>"
      ]
     },
     "execution_count": 61,
     "metadata": {},
     "output_type": "execute_result"
    },
    {
     "data": {
      "image/png": "[encoded data removed]",
      "text/plain": [
       "<Figure size 432x288 with 1 Axes>"
      ]
     },
     "metadata": {
      "needs_background": "light"
     },
     "output_type": "display_data"
    }
   ],
   "source": [
    "sns.boxplot(np.log(test['points_in_wallet']))"
   ]
  },
  {
   "cell_type": "code",
   "execution_count": 70,
   "metadata": {},
   "outputs": [
    {
     "name": "stderr",
     "output_type": "stream",
     "text": [
      "C:\\Users\\adih4\\AppData\\Roaming\\Python\\Python37\\site-packages\\pandas\\core\\arraylike.py:358: RuntimeWarning: invalid value encountered in log\n",
      "  result = getattr(ufunc, method)(*inputs, **kwargs)\n"
     ]
    }
   ],
   "source": [
    "train['points_in_wallet'] = np.log(train['points_in_wallet'])\n",
    "test['points_in_wallet'] = np.log(test['points_in_wallet'])"
   ]
  },
  {
   "cell_type": "code",
   "execution_count": 81,
   "metadata": {},
   "outputs": [],
   "source": [
    "train['points_in_wallet'].fillna(np.mean(train['points_in_wallet']), inplace=True)\n",
    "test['points_in_wallet'].fillna(np.mean(test['points_in_wallet']), inplace=True)"
   ]
  },
  {
   "cell_type": "code",
   "execution_count": null,
   "metadata": {},
   "outputs": [],
   "source": []
  },
  {
   "cell_type": "code",
   "execution_count": null,
   "metadata": {},
   "outputs": [],
   "source": []
  },
  {
   "cell_type": "code",
   "execution_count": 83,
   "metadata": {},
   "outputs": [
    {
     "data": {
      "text/plain": [
       "(array(['Yes', 'No'], dtype=object), array(['Yes', 'No'], dtype=object))"
      ]
     },
     "execution_count": 83,
     "metadata": {},
     "output_type": "execute_result"
    }
   ],
   "source": [
    "train['used_special_discount'].unique(), test['used_special_discount'].unique()"
   ]
  },
  {
   "cell_type": "code",
   "execution_count": null,
   "metadata": {},
   "outputs": [],
   "source": [
    "train['used_special_discount'].replace({'Yes':1, 'No':0}, inplace=True)"
   ]
  },
  {
   "cell_type": "code",
   "execution_count": null,
   "metadata": {},
   "outputs": [],
   "source": []
  }
 ],
 "metadata": {
  "kernelspec": {
   "display_name": "Python 3",
   "language": "python",
   "name": "python3"
  },
  "language_info": {
   "codemirror_mode": {
    "name": "ipython",
    "version": 3
   },
   "file_extension": ".py",
   "mimetype": "text/x-python",
   "name": "python",
   "nbconvert_exporter": "python",
   "pygments_lexer": "ipython3",
   "version": "3.7.9"
  }
 },
 "nbformat": 4,
 "nbformat_minor": 4
}
